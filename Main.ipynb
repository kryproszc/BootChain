{
 "cells": [
  {
   "cell_type": "code",
   "execution_count": 1,
   "id": "8d86de0c-93ec-4891-be8f-85db0dc6b40b",
   "metadata": {},
   "outputs": [
    {
     "name": "stdout",
     "output_type": "stream",
     "text": [
      "importing Jupyter notebook from Chainladder.ipynb\n",
      "importing Jupyter notebook from RiskAplication.ipynb\n"
     ]
    }
   ],
   "source": [
    "import import_ipynb\n",
    "from Chainladder import BootStrapChian\n",
    "from RiskAplication import AppChainladder\n",
    "import tkinter as tk"
   ]
  },
  {
   "cell_type": "code",
   "execution_count": null,
   "id": "404e03d2-be6f-455c-89eb-c0117a395f2c",
   "metadata": {},
   "outputs": [],
   "source": [
    "if __name__ == \"__main__\":\n",
    "    root = tk.Tk()\n",
    "    root.geometry(\"1150x750\")\n",
    "    root.title(\"Chainladder Bootstrap\")\n",
    "    app = AppChainladder(root)\n",
    "    app.mainloop()"
   ]
  },
  {
   "cell_type": "code",
   "execution_count": null,
   "id": "6ab61cda-f8e6-468e-afe7-104101f8cad3",
   "metadata": {},
   "outputs": [],
   "source": []
  }
 ],
 "metadata": {
  "kernelspec": {
   "display_name": "Python 3",
   "language": "python",
   "name": "python3"
  },
  "language_info": {
   "codemirror_mode": {
    "name": "ipython",
    "version": 3
   },
   "file_extension": ".py",
   "mimetype": "text/x-python",
   "name": "python",
   "nbconvert_exporter": "python",
   "pygments_lexer": "ipython3",
   "version": "3.8.8"
  }
 },
 "nbformat": 4,
 "nbformat_minor": 5
}
