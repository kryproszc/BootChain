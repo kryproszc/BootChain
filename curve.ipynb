{
 "cells": [
  {
   "cell_type": "code",
   "execution_count": 1,
   "id": "e67a0e53-72a8-49ab-929d-dfd758e951db",
   "metadata": {},
   "outputs": [],
   "source": [
    "import numpy as np"
   ]
  },
  {
   "cell_type": "code",
   "execution_count": 57,
   "id": "79d858aa-2acc-4e6f-818b-b9cdc831b9bd",
   "metadata": {},
   "outputs": [],
   "source": [
    "f_input = [1.495,1.099679195,1.0622634523,1.0466151,1.0385,1.03321,1.02349]\n",
    "se_factor = [0.0003,0.00001,0.000004,0.0000055,0.000006,0.0000239,0.000017]\n",
    "x_k = [1,2,3,4,5,6,7]"
   ]
  },
  {
   "cell_type": "code",
   "execution_count": 58,
   "id": "d0515f56-6aad-40a5-a675-cb45b4c36a16",
   "metadata": {},
   "outputs": [],
   "source": [
    "def wsp_w_k_sqr(f_k,se_f_k):\n",
    "    w_k_s = 1/np.sqrt(np.log(1+((se_f_k)**2/(f_k-1)**2)))\n",
    "    return(w_k_s)"
   ]
  },
  {
   "cell_type": "code",
   "execution_count": 59,
   "id": "2b204366-ad41-4197-ace7-bffedc70bb1c",
   "metadata": {},
   "outputs": [],
   "source": [
    "f_factor = [np.log(f-1) for f in f_input]"
   ]
  },
  {
   "cell_type": "code",
   "execution_count": 60,
   "id": "38dfb7e6-4534-40c8-88c3-73f40f081eed",
   "metadata": {},
   "outputs": [
    {
     "name": "stdout",
     "output_type": "stream",
     "text": [
      "[-0.7031975164134465, -2.3057982998183006, -2.7763806657790013, -3.0658307560035616, -3.257097037688399, -3.404904243593483, -3.7511804803113153]\n"
     ]
    }
   ],
   "source": [
    "print(f_factor)"
   ]
  },
  {
   "cell_type": "code",
   "execution_count": 61,
   "id": "38eb72c8-e075-42da-ba65-a723f4cf6127",
   "metadata": {},
   "outputs": [
    {
     "data": {
      "text/plain": [
       "[5677.325100801955,\n",
       " 330581.5259353768,\n",
       " 944072.2629310038,\n",
       " 739247.6118290995,\n",
       " 709521.3044624774,\n",
       " 184305.90169687208,\n",
       " 279482.0154896221]"
      ]
     },
     "execution_count": 61,
     "metadata": {},
     "output_type": "execute_result"
    }
   ],
   "source": [
    "w_k_sqr = [wsp_w_k_sqr(f,se_f) for f,se_f in zip(f_factor,se_factor)]\n",
    "w_k_sqr"
   ]
  },
  {
   "cell_type": "code",
   "execution_count": 62,
   "id": "4300f0ab-0671-4581-a70e-d9c95cdff920",
   "metadata": {},
   "outputs": [
    {
     "data": {
      "text/plain": [
       "3192887.9474452534"
      ]
     },
     "execution_count": 62,
     "metadata": {},
     "output_type": "execute_result"
    }
   ],
   "source": [
    "A = np.sum(w_k_sqr)\n",
    "A"
   ]
  },
  {
   "cell_type": "code",
   "execution_count": 63,
   "id": "ebc49067-52dc-4302-a2e2-efc752a22466",
   "metadata": {},
   "outputs": [
    {
     "data": {
      "text/plain": [
       "13065863.65400194"
      ]
     },
     "execution_count": 63,
     "metadata": {},
     "output_type": "execute_result"
    }
   ],
   "source": [
    "A_x = np.sum([x*y for x,y in zip(w_k_sqr,x_k)])\n",
    "A_x"
   ]
  },
  {
   "cell_type": "code",
   "execution_count": 64,
   "id": "4f8d9983-e980-4b14-9816-d6620c96a43a",
   "metadata": {},
   "outputs": [
    {
     "data": {
      "text/plain": [
       "59720279.41612774"
      ]
     },
     "execution_count": 64,
     "metadata": {},
     "output_type": "execute_result"
    }
   ],
   "source": [
    "A_x_x = np.sum([x*(y)**2 for x,y in zip(w_k_sqr,x_k)])\n",
    "A_x_x"
   ]
  },
  {
   "cell_type": "code",
   "execution_count": 65,
   "id": "a6336b06-283f-4fc2-8347-f12abf51ef22",
   "metadata": {},
   "outputs": [
    {
     "data": {
      "text/plain": [
       "-9640669.810762873"
      ]
     },
     "execution_count": 65,
     "metadata": {},
     "output_type": "execute_result"
    }
   ],
   "source": [
    "A_y = np.sum([x*y for x,y in zip(w_k_sqr,f_factor)])\n",
    "A_y"
   ]
  },
  {
   "cell_type": "code",
   "execution_count": 66,
   "id": "c3e42eab-622b-4b41-8527-1d08a0b5e877",
   "metadata": {},
   "outputs": [
    {
     "data": {
      "text/plain": [
       "-41116319.85737685"
      ]
     },
     "execution_count": 66,
     "metadata": {},
     "output_type": "execute_result"
    }
   ],
   "source": [
    "A_x_y = np.sum([x*y*z for x,y,z in zip(w_k_sqr,x_k,f_factor)])\n",
    "A_x_y"
   ]
  },
  {
   "cell_type": "code",
   "execution_count": 67,
   "id": "3c92ae06-1362-4a4a-b83d-4c3dc1c5ebb8",
   "metadata": {},
   "outputs": [
    {
     "data": {
      "text/plain": [
       "19963367340848.188"
      ]
     },
     "execution_count": 67,
     "metadata": {},
     "output_type": "execute_result"
    }
   ],
   "source": [
    "Delta = A*A_x_x - (A_x)**2\n",
    "Delta"
   ]
  },
  {
   "cell_type": "code",
   "execution_count": 68,
   "id": "4f15e8ff-2ab7-452f-b1f5-d0e4a0510b6b",
   "metadata": {},
   "outputs": [
    {
     "data": {
      "text/plain": [
       "-0.26629399461905817"
      ]
     },
     "execution_count": 68,
     "metadata": {},
     "output_type": "execute_result"
    }
   ],
   "source": [
    "a = (A*A_x_y-A_x*A_y)/Delta\n",
    "a"
   ]
  },
  {
   "cell_type": "code",
   "execution_count": 69,
   "id": "4627907c-0823-499b-8a37-8d9b7b7aee59",
   "metadata": {},
   "outputs": [
    {
     "data": {
      "text/plain": [
       "-1.92969778038112"
      ]
     },
     "execution_count": 69,
     "metadata": {},
     "output_type": "execute_result"
    }
   ],
   "source": [
    "b = (A_x_x*A_y-A_x*A_x_y)/Delta\n",
    "b"
   ]
  },
  {
   "cell_type": "code",
   "execution_count": 70,
   "id": "675bdbab-c05d-456f-bbea-3c0e835a1450",
   "metadata": {},
   "outputs": [],
   "source": [
    "def f_reg(k,a,b):\n",
    "    f_k = 1+np.exp(a*k+b)\n",
    "    return(f_k)"
   ]
  },
  {
   "cell_type": "code",
   "execution_count": 77,
   "id": "c1a6ba4f-0e12-49f6-8bef-a296f0081e0c",
   "metadata": {},
   "outputs": [
    {
     "data": {
      "text/plain": [
       "1.0059448753526676"
      ]
     },
     "execution_count": 77,
     "metadata": {},
     "output_type": "execute_result"
    }
   ],
   "source": [
    "f_reg(12,a,b)"
   ]
  },
  {
   "cell_type": "code",
   "execution_count": null,
   "id": "a93ff9ce-0845-4993-8406-6f1de00d3608",
   "metadata": {},
   "outputs": [],
   "source": []
  }
 ],
 "metadata": {
  "kernelspec": {
   "display_name": "Python 3",
   "language": "python",
   "name": "python3"
  },
  "language_info": {
   "codemirror_mode": {
    "name": "ipython",
    "version": 3
   },
   "file_extension": ".py",
   "mimetype": "text/x-python",
   "name": "python",
   "nbconvert_exporter": "python",
   "pygments_lexer": "ipython3",
   "version": "3.8.8"
  }
 },
 "nbformat": 4,
 "nbformat_minor": 5
}
