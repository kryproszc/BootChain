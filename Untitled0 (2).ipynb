{
  "nbformat": 4,
  "nbformat_minor": 0,
  "metadata": {
    "colab": {
      "provenance": []
    },
    "kernelspec": {
      "name": "python3",
      "display_name": "Python 3"
    },
    "language_info": {
      "name": "python"
    }
  },
  "cells": [
    {
      "cell_type": "code",
      "source": [
        "!pip install lmfit"
      ],
      "metadata": {
        "colab": {
          "base_uri": "https://localhost:8080/"
        },
        "id": "6AoUHepqEq6C",
        "outputId": "32f71ac6-0048-4e38-f106-6abbe26bd986"
      },
      "execution_count": null,
      "outputs": [
        {
          "output_type": "stream",
          "name": "stdout",
          "text": [
            "Collecting lmfit\n",
            "  Downloading lmfit-1.2.2-py3-none-any.whl (102 kB)\n",
            "\u001b[2K     \u001b[90m━━━━━━━━━━━━━━━━━━━━━━━━━━━━━━━━━━━━━━━\u001b[0m \u001b[32m103.0/103.0 kB\u001b[0m \u001b[31m1.4 MB/s\u001b[0m eta \u001b[36m0:00:00\u001b[0m\n",
            "\u001b[?25hCollecting asteval>=0.9.28 (from lmfit)\n",
            "  Downloading asteval-0.9.31-py3-none-any.whl (20 kB)\n",
            "Requirement already satisfied: numpy>=1.19 in /usr/local/lib/python3.10/dist-packages (from lmfit) (1.22.4)\n",
            "Requirement already satisfied: scipy>=1.6 in /usr/local/lib/python3.10/dist-packages (from lmfit) (1.10.1)\n",
            "Collecting uncertainties>=3.1.4 (from lmfit)\n",
            "  Downloading uncertainties-3.1.7-py2.py3-none-any.whl (98 kB)\n",
            "\u001b[2K     \u001b[90m━━━━━━━━━━━━━━━━━━━━━━━━━━━━━━━━━━━━━━━━\u001b[0m \u001b[32m98.4/98.4 kB\u001b[0m \u001b[31m9.6 MB/s\u001b[0m eta \u001b[36m0:00:00\u001b[0m\n",
            "\u001b[?25hRequirement already satisfied: future in /usr/local/lib/python3.10/dist-packages (from uncertainties>=3.1.4->lmfit) (0.18.3)\n",
            "Installing collected packages: uncertainties, asteval, lmfit\n",
            "Successfully installed asteval-0.9.31 lmfit-1.2.2 uncertainties-3.1.7\n"
          ]
        }
      ]
    },
    {
      "cell_type": "code",
      "source": [],
      "metadata": {
        "id": "NorcM8RiSvkH"
      },
      "execution_count": null,
      "outputs": []
    },
    {
      "cell_type": "code",
      "source": [
        "from lmfit import minimize, Parameters, Parameter, report_fit\n",
        "import numpy as np\n",
        "\n",
        "xdata = np.array([177.,180.,183.,187.,189.,190.,196.,197.,201.,202.,203.,204.,206.,218.,225.,231.,234.,\n",
        "      252.,262.,266.,267.,268.,277.,286.,303.])\n",
        "\n",
        "ydata = np.array([0.81,0.74,0.78,0.75,0.77,0.81,0.73,0.76,0.71,0.74,0.81,0.71,0.74,0.71,\n",
        "      0.72,0.69,0.75,0.59,0.61,0.63,0.64,0.63,0.35,0.27,0.26])\n",
        "\n",
        "def fit_fc(params, x, data):\n",
        "\n",
        "    n1 = params['n1'].value\n",
        "    n2 = params['n2'].value\n",
        "    n3 = params['n3'].value\n",
        "    n4 = params['n4'].value\n",
        "    n5 = params['n5'].value\n",
        "\n",
        "    model = n1 + (n2 * x + n3) * 1./ (1. + np.exp(n4 * (n5 - x)))\n",
        "\n",
        "    return model - data #that's what you want to minimize\n",
        "\n",
        "# create a set of Parameters\n",
        "# 'value' is the initial condition\n",
        "# 'min' and 'max' define your boundaries\n",
        "params = Parameters()\n",
        "params.add('n1', value= 0.2, min=0.2, max=0.8)\n",
        "params.add('n2', value= -0.005, min=-0.3, max=10**(-10))\n",
        "params.add('n3', value= 1.0766, min=-1000., max=1000.)\n",
        "params.add('n4', value= -0.36379, min=-1000., max=1000.)\n",
        "params.add('n5', value= 274.0, min=0., max=1000.)\n",
        "\n",
        "# do fit, here with leastsq model\n",
        "result = minimize(fit_fc, params, args=(xdata, ydata))\n",
        "\n",
        "# write error report\n",
        "report_fit(result)\n",
        "\n",
        "xplot = np.linspace(min(xdata), max(xdata), 1000)\n",
        "yplot = result.params['n1'] + (result.params['n2'] * xplot + result.params['n3']) * \\\n",
        "                              1./ (1. + np.exp(result.params['n4'] * (result.params['n5'] - xplot)))\n",
        "#plot results\n",
        "try:\n",
        "    import pylab\n",
        "    pylab.plot(xdata, ydata, 'k+')\n",
        "    pylab.plot(xplot, yplot, 'r')\n",
        "    pylab.show()\n",
        "except:\n",
        "    pass"
      ],
      "metadata": {
        "colab": {
          "base_uri": "https://localhost:8080/",
          "height": 841
        },
        "id": "9ajPHZ_QEsdw",
        "outputId": "372ce6d5-b2c8-4d01-bd00-c0014546a564"
      },
      "execution_count": null,
      "outputs": [
        {
          "output_type": "stream",
          "name": "stdout",
          "text": [
            "[[Fit Statistics]]\n",
            "    # fitting method   = leastsq\n",
            "    # function evals   = 138\n",
            "    # data points      = 25\n",
            "    # variables        = 5\n",
            "    chi-square         = 0.02161566\n",
            "    reduced chi-square = 0.00108078\n",
            "    Akaike info crit   = -166.330323\n",
            "    Bayesian info crit = -160.235943\n",
            "[[Variables]]\n",
            "    n1:  0.26499999 +/- 0.02002147 (7.56%) (init = 0.2)\n",
            "    n2: -0.00184012 +/- 2.6431e-04 (14.36%) (init = -0.005)\n",
            "    n3:  0.85084131 +/- 0.06032902 (7.09%) (init = 1.0766)\n",
            "    n4: -1.86934044 +/- 67982.7647 (3636724.65%) (init = -0.36379)\n",
            "    n5:  276.409979 +/- 21806.9902 (7889.36%) (init = 274)\n",
            "[[Correlations]] (unreported correlations are < 0.100)\n",
            "    C(n4, n5) = -1.0000\n",
            "    C(n2, n3) = -0.9136\n",
            "    C(n2, n5) = -0.4584\n",
            "    C(n2, n4) = +0.4584\n",
            "    C(n3, n5) = +0.3673\n",
            "    C(n3, n4) = -0.3673\n",
            "    C(n1, n3) = -0.3545\n"
          ]
        },
        {
          "output_type": "display_data",
          "data": {
            "text/plain": [
              "<Figure size 640x480 with 1 Axes>"
            ],
            "image/png": "[encoded data removed]"
          },
          "metadata": {}
        }
      ]
    },
    {
      "cell_type": "code",
      "source": [
        "#Moj przykład"
      ],
      "metadata": {
        "id": "2PqOKa7fFC_K"
      },
      "execution_count": null,
      "outputs": []
    },
    {
      "cell_type": "code",
      "source": [],
      "metadata": {
        "id": "MrxYRdodFFCc"
      },
      "execution_count": null,
      "outputs": []
    },
    {
      "cell_type": "code",
      "source": [
        "ys = np.array([1.495,1.099679195,1.0622634523,1.0466151,1.0385,1.03321,1.02349,1.0269,1.0262,1.0243,1.0189,1.0235,1.0243,1.0224,1.008])"
      ],
      "metadata": {
        "id": "sWFhxpqsFFH4"
      },
      "execution_count": null,
      "outputs": []
    },
    {
      "cell_type": "code",
      "source": [
        "xs = np.arange(1,len(ys))"
      ],
      "metadata": {
        "id": "ti9DN4dEFwIB"
      },
      "execution_count": null,
      "outputs": []
    },
    {
      "cell_type": "code",
      "source": [
        "xs"
      ],
      "metadata": {
        "colab": {
          "base_uri": "https://localhost:8080/"
        },
        "id": "43aGVqyrqVtS",
        "outputId": "9faeef77-4e28-45c5-cee0-2da895f2cc09"
      },
      "execution_count": null,
      "outputs": [
        {
          "output_type": "execute_result",
          "data": {
            "text/plain": [
              "array([ 1,  2,  3,  4,  5,  6,  7,  8,  9, 10, 11, 12, 13, 14])"
            ]
          },
          "metadata": {},
          "execution_count": 25
        }
      ]
    },
    {
      "cell_type": "code",
      "source": [
        "#zgodnie z metodologi zapisana na w\n",
        "https://math.stackexchange.com/questions/2591061/exponential-least-squares-equation"
      ],
      "metadata": {
        "id": "icCIhSN1H3Tq"
      },
      "execution_count": null,
      "outputs": []
    },
    {
      "cell_type": "code",
      "source": [
        "#1. parametr krzywej ma mieć maksymalnie wartość 3 - więc uznałęm, że to parametr n2, ne jestem tego pewien bo polecenie po angielsku brzmi\n",
        "#maximum curve ratio\n",
        "#2. cała funkcja (czyli ta wykładnicza) ma być ograniczona z góry przez 10 a z dołu przez 1. Noi tutaj nie wiem jak te ograniczenia dałożyć. Ten kod poniższy\n",
        "#daje wartości mniejsze niż jeden bo nie nałożyłem wspomnianych ograniczeń.\n",
        "# 3. biore ys[:7] ponieważ według wag mam dopasować do pierwszych 7 obserwacji"
      ],
      "metadata": {
        "id": "1la6DAceId2M"
      },
      "execution_count": null,
      "outputs": []
    },
    {
      "cell_type": "code",
      "source": [
        "ys[:7]"
      ],
      "metadata": {
        "colab": {
          "base_uri": "https://localhost:8080/"
        },
        "id": "dmRWgRsygTmE",
        "outputId": "626a58c4-676e-41c4-f54f-7e29468dcbdd"
      },
      "execution_count": null,
      "outputs": [
        {
          "output_type": "execute_result",
          "data": {
            "text/plain": [
              "array([1.495     , 1.09967919, 1.06226345, 1.0466151 , 1.0385    ,\n",
              "       1.03321   , 1.02349   ])"
            ]
          },
          "metadata": {},
          "execution_count": 26
        }
      ]
    },
    {
      "cell_type": "code",
      "source": [
        "from lmfit import minimize, Parameters, Parameter, report_fit\n",
        "import numpy as np\n",
        "\n",
        "xdata = xs[:4]\n",
        "\n",
        "ydata = np.array([1052233,48638,18731,21886])\n",
        "print(xdata)\n",
        "print(ydata)\n",
        "def fit_fc(params, x, data):\n",
        "\n",
        "    n1 = params['n1'].value\n",
        "    n2 = params['n2'].value\n",
        "\n",
        "    model = n1*np.exp(n2*x)\n",
        "\n",
        "    return np.log(data) - np.log(model)\n",
        "\n",
        "\n",
        "params = Parameters()\n",
        "params.add('n1', value= 1, min=0, max=np.inf)\n",
        "params.add('n2', value= -1, min=-np.inf, max=np.inf)\n",
        "\n",
        "\n",
        "# do fit, here with leastsq model\n",
        "result = minimize(fit_fc, params, args=(xdata, ydata))\n",
        "\n",
        "# write error report\n",
        "report_fit(result)\n",
        "\n",
        "for x in range(0,20,1):\n",
        "  yplot = result.params['n1']*np.exp(result.params['n2']*x)\n",
        "  print(yplot)\n"
      ],
      "metadata": {
        "colab": {
          "base_uri": "https://localhost:8080/"
        },
        "id": "nBe5nMVXHPBL",
        "outputId": "d3d89986-5a7c-4c2b-d7cc-86c45f2f8e0c"
      },
      "execution_count": null,
      "outputs": [
        {
          "output_type": "stream",
          "name": "stdout",
          "text": [
            "[1 2 3 4]\n",
            "[1052233   48638   18731   21886]\n",
            "[[Fit Statistics]]\n",
            "    # fitting method   = leastsq\n",
            "    # function evals   = 79\n",
            "    # data points      = 4\n",
            "    # variables        = 2\n",
            "    chi-square         = 2.65913502\n",
            "    reduced chi-square = 1.32956751\n",
            "    Akaike info crit   = 2.36682611\n",
            "    Bayesian info crit = 1.13941484\n",
            "[[Variables]]\n",
            "    n1:  1568615.76 +/- 2215014.26 (141.21%) (init = 1)\n",
            "    n2: -1.25726933 +/- 0.51566802 (41.01%) (init = -1)\n",
            "[[Correlations]] (unreported correlations are < 0.100)\n",
            "    C(n1, n2) = -0.9129\n",
            "1568615.755537993\n",
            "446160.83210680215\n",
            "126901.36982460822\n",
            "36094.512347303076\n",
            "10266.34955469943\n",
            "2920.054222235594\n",
            "830.5500037150806\n",
            "236.23304780381756\n",
            "67.1916833725341\n",
            "19.11130706057764\n",
            "5.435822399904103\n",
            "1.5461090688166752\n",
            "0.439759263054535\n",
            "0.1250805737723786\n",
            "0.035576623961386125\n",
            "0.010119046741768074\n",
            "0.0028781569345428678\n",
            "0.0008186331727932897\n",
            "0.00023284354774214073\n",
            "6.62276090524818e-05\n"
          ]
        }
      ]
    },
    {
      "cell_type": "code",
      "source": [
        "import matplotlib.pyplot as plt\n",
        "\n",
        "xplot = np.linspace(10, 60, 50)\n",
        "yplot = result.params['n1']*np.exp(result.params['n2']*xplot)\n",
        "#plot results\n",
        "ax = plt.axes()\n",
        "ax.scatter(xs, ys, label='Dane surowe')\n",
        "ax.plot(xplot, yplot, 'k', label='Fitted curve')\n",
        "ax.set_title(r'Using curve\\_fit() to fit an exponential function')\n",
        "ax.set_ylabel('y-Values')\n",
        "ax.set_ylim(1, 2)\n",
        "ax.set_xlabel('x-Values')\n",
        "ax.legend()"
      ],
      "metadata": {
        "id": "oTTV1T4RzUK5",
        "colab": {
          "base_uri": "https://localhost:8080/",
          "height": 825
        },
        "outputId": "2928ba22-6206-47f7-acb0-9fe103a4851d"
      },
      "execution_count": null,
      "outputs": [
        {
          "output_type": "error",
          "ename": "ValueError",
          "evalue": "ignored",
          "traceback": [
            "\u001b[0;31m---------------------------------------------------------------------------\u001b[0m",
            "\u001b[0;31mValueError\u001b[0m                                Traceback (most recent call last)",
            "\u001b[0;32m<ipython-input-40-9c27375028c9>\u001b[0m in \u001b[0;36m<cell line: 7>\u001b[0;34m()\u001b[0m\n\u001b[1;32m      5\u001b[0m \u001b[0;31m#plot results\u001b[0m\u001b[0;34m\u001b[0m\u001b[0;34m\u001b[0m\u001b[0m\n\u001b[1;32m      6\u001b[0m \u001b[0max\u001b[0m \u001b[0;34m=\u001b[0m \u001b[0mplt\u001b[0m\u001b[0;34m.\u001b[0m\u001b[0maxes\u001b[0m\u001b[0;34m(\u001b[0m\u001b[0;34m)\u001b[0m\u001b[0;34m\u001b[0m\u001b[0;34m\u001b[0m\u001b[0m\n\u001b[0;32m----> 7\u001b[0;31m \u001b[0max\u001b[0m\u001b[0;34m.\u001b[0m\u001b[0mscatter\u001b[0m\u001b[0;34m(\u001b[0m\u001b[0mxs\u001b[0m\u001b[0;34m,\u001b[0m \u001b[0mys\u001b[0m\u001b[0;34m,\u001b[0m \u001b[0mlabel\u001b[0m\u001b[0;34m=\u001b[0m\u001b[0;34m'Dane surowe'\u001b[0m\u001b[0;34m)\u001b[0m\u001b[0;34m\u001b[0m\u001b[0;34m\u001b[0m\u001b[0m\n\u001b[0m\u001b[1;32m      8\u001b[0m \u001b[0max\u001b[0m\u001b[0;34m.\u001b[0m\u001b[0mplot\u001b[0m\u001b[0;34m(\u001b[0m\u001b[0mxplot\u001b[0m\u001b[0;34m,\u001b[0m \u001b[0myplot\u001b[0m\u001b[0;34m,\u001b[0m \u001b[0;34m'k'\u001b[0m\u001b[0;34m,\u001b[0m \u001b[0mlabel\u001b[0m\u001b[0;34m=\u001b[0m\u001b[0;34m'Fitted curve'\u001b[0m\u001b[0;34m)\u001b[0m\u001b[0;34m\u001b[0m\u001b[0;34m\u001b[0m\u001b[0m\n\u001b[1;32m      9\u001b[0m \u001b[0max\u001b[0m\u001b[0;34m.\u001b[0m\u001b[0mset_title\u001b[0m\u001b[0;34m(\u001b[0m\u001b[0;34mr'Using curve\\_fit() to fit an exponential function'\u001b[0m\u001b[0;34m)\u001b[0m\u001b[0;34m\u001b[0m\u001b[0;34m\u001b[0m\u001b[0m\n",
            "\u001b[0;32m/usr/local/lib/python3.10/dist-packages/matplotlib/__init__.py\u001b[0m in \u001b[0;36minner\u001b[0;34m(ax, data, *args, **kwargs)\u001b[0m\n\u001b[1;32m   1440\u001b[0m     \u001b[0;32mdef\u001b[0m \u001b[0minner\u001b[0m\u001b[0;34m(\u001b[0m\u001b[0max\u001b[0m\u001b[0;34m,\u001b[0m \u001b[0;34m*\u001b[0m\u001b[0margs\u001b[0m\u001b[0;34m,\u001b[0m \u001b[0mdata\u001b[0m\u001b[0;34m=\u001b[0m\u001b[0;32mNone\u001b[0m\u001b[0;34m,\u001b[0m \u001b[0;34m**\u001b[0m\u001b[0mkwargs\u001b[0m\u001b[0;34m)\u001b[0m\u001b[0;34m:\u001b[0m\u001b[0;34m\u001b[0m\u001b[0;34m\u001b[0m\u001b[0m\n\u001b[1;32m   1441\u001b[0m         \u001b[0;32mif\u001b[0m \u001b[0mdata\u001b[0m \u001b[0;32mis\u001b[0m \u001b[0;32mNone\u001b[0m\u001b[0;34m:\u001b[0m\u001b[0;34m\u001b[0m\u001b[0;34m\u001b[0m\u001b[0m\n\u001b[0;32m-> 1442\u001b[0;31m             \u001b[0;32mreturn\u001b[0m \u001b[0mfunc\u001b[0m\u001b[0;34m(\u001b[0m\u001b[0max\u001b[0m\u001b[0;34m,\u001b[0m \u001b[0;34m*\u001b[0m\u001b[0mmap\u001b[0m\u001b[0;34m(\u001b[0m\u001b[0msanitize_sequence\u001b[0m\u001b[0;34m,\u001b[0m \u001b[0margs\u001b[0m\u001b[0;34m)\u001b[0m\u001b[0;34m,\u001b[0m \u001b[0;34m**\u001b[0m\u001b[0mkwargs\u001b[0m\u001b[0;34m)\u001b[0m\u001b[0;34m\u001b[0m\u001b[0;34m\u001b[0m\u001b[0m\n\u001b[0m\u001b[1;32m   1443\u001b[0m \u001b[0;34m\u001b[0m\u001b[0m\n\u001b[1;32m   1444\u001b[0m         \u001b[0mbound\u001b[0m \u001b[0;34m=\u001b[0m \u001b[0mnew_sig\u001b[0m\u001b[0;34m.\u001b[0m\u001b[0mbind\u001b[0m\u001b[0;34m(\u001b[0m\u001b[0max\u001b[0m\u001b[0;34m,\u001b[0m \u001b[0;34m*\u001b[0m\u001b[0margs\u001b[0m\u001b[0;34m,\u001b[0m \u001b[0;34m**\u001b[0m\u001b[0mkwargs\u001b[0m\u001b[0;34m)\u001b[0m\u001b[0;34m\u001b[0m\u001b[0;34m\u001b[0m\u001b[0m\n",
            "\u001b[0;32m/usr/local/lib/python3.10/dist-packages/matplotlib/axes/_axes.py\u001b[0m in \u001b[0;36mscatter\u001b[0;34m(self, x, y, s, c, marker, cmap, norm, vmin, vmax, alpha, linewidths, edgecolors, plotnonfinite, **kwargs)\u001b[0m\n\u001b[1;32m   4582\u001b[0m         \u001b[0my\u001b[0m \u001b[0;34m=\u001b[0m \u001b[0mnp\u001b[0m\u001b[0;34m.\u001b[0m\u001b[0mma\u001b[0m\u001b[0;34m.\u001b[0m\u001b[0mravel\u001b[0m\u001b[0;34m(\u001b[0m\u001b[0my\u001b[0m\u001b[0;34m)\u001b[0m\u001b[0;34m\u001b[0m\u001b[0;34m\u001b[0m\u001b[0m\n\u001b[1;32m   4583\u001b[0m         \u001b[0;32mif\u001b[0m \u001b[0mx\u001b[0m\u001b[0;34m.\u001b[0m\u001b[0msize\u001b[0m \u001b[0;34m!=\u001b[0m \u001b[0my\u001b[0m\u001b[0;34m.\u001b[0m\u001b[0msize\u001b[0m\u001b[0;34m:\u001b[0m\u001b[0;34m\u001b[0m\u001b[0;34m\u001b[0m\u001b[0m\n\u001b[0;32m-> 4584\u001b[0;31m             \u001b[0;32mraise\u001b[0m \u001b[0mValueError\u001b[0m\u001b[0;34m(\u001b[0m\u001b[0;34m\"x and y must be the same size\"\u001b[0m\u001b[0;34m)\u001b[0m\u001b[0;34m\u001b[0m\u001b[0;34m\u001b[0m\u001b[0m\n\u001b[0m\u001b[1;32m   4585\u001b[0m \u001b[0;34m\u001b[0m\u001b[0m\n\u001b[1;32m   4586\u001b[0m         \u001b[0;32mif\u001b[0m \u001b[0ms\u001b[0m \u001b[0;32mis\u001b[0m \u001b[0;32mNone\u001b[0m\u001b[0;34m:\u001b[0m\u001b[0;34m\u001b[0m\u001b[0;34m\u001b[0m\u001b[0m\n",
            "\u001b[0;31mValueError\u001b[0m: x and y must be the same size"
          ]
        },
        {
          "output_type": "display_data",
          "data": {
            "text/plain": [
              "<Figure size 640x480 with 1 Axes>"
            ],
            "image/png": "[encoded data removed]"
          },
          "metadata": {}
        }
      ]
    },
    {
      "cell_type": "code",
      "source": [
        "xplot = 10\n",
        "yplot = 1+result.params['n1']*np.exp(result.params['n2']*xplot)\n",
        "print(yplot)"
      ],
      "metadata": {
        "id": "ylLsLe-GImn9",
        "colab": {
          "base_uri": "https://localhost:8080/"
        },
        "outputId": "1b05c1dd-de9c-4015-8588-96c2ee32e548"
      },
      "execution_count": null,
      "outputs": [
        {
          "output_type": "stream",
          "name": "stdout",
          "text": [
            "1.0034643280222861\n"
          ]
        }
      ]
    }
  ]
}